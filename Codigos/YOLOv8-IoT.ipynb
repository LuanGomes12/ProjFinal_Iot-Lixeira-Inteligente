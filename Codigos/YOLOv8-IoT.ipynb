{
 "cells": [
  {
   "cell_type": "code",
   "execution_count": null,
   "id": "c7b6fd08-e5fd-46c7-9b45-8a4f8abeb405",
   "metadata": {},
   "outputs": [],
   "source": [
    "import cv2\n",
    "import math\n",
    "import glob\n",
    "from PIL import Image\n",
    "import torch\n",
    "from IPython.display import Image, display, clear_output\n",
    "import tensorflow\n",
    "import ultralytics\n",
    "from ultralytics import YOLO\n",
    "import torch\n",
    "import os\n",
    "import random\n",
    "import shutil"
   ]
  },
  {
   "cell_type": "code",
   "execution_count": null,
   "id": "c048aba8",
   "metadata": {},
   "outputs": [],
   "source": [
    "print(torch.cuda.device_count())"
   ]
  },
  {
   "cell_type": "code",
   "execution_count": null,
   "id": "b9a8f3b5-86b3-4d08-9887-eb66a8882a31",
   "metadata": {},
   "outputs": [],
   "source": [
    "!nvidia-smi   "
   ]
  },
  {
   "cell_type": "code",
   "execution_count": null,
   "id": "19862070-f9e9-4829-ab8b-c999ac9fa02f",
   "metadata": {},
   "outputs": [],
   "source": []
  },
  {
   "cell_type": "code",
   "execution_count": null,
   "id": "da87d6f9-7b71-4ae6-8331-f774f684b909",
   "metadata": {},
   "outputs": [],
   "source": [
    "device = torch.device('cuda' if torch.cuda.is_available() else 'cpu')"
   ]
  },
  {
   "cell_type": "code",
   "execution_count": null,
   "id": "04db9698-ff85-4eaf-8734-fd87e9a4612d",
   "metadata": {},
   "outputs": [],
   "source": [
    "device"
   ]
  },
  {
   "cell_type": "code",
   "execution_count": null,
   "id": "7b78fd6e",
   "metadata": {},
   "outputs": [],
   "source": [
    "model = YOLO('yolov8s.pt')\n",
    "model.to(device)\n",
    "results = model.train(data=\"C:/Users/ranes/Documents/Projeto_IoT/Last/GARBAGE/data.yaml\", epochs=100, imgsz=416, device=0, batch=-1)"
   ]
  },
  {
   "cell_type": "code",
   "execution_count": null,
   "id": "44026840-e29a-448c-94fa-73b829a073db",
   "metadata": {},
   "outputs": [],
   "source": []
  },
  {
   "cell_type": "code",
   "execution_count": null,
   "id": "11aadacd-9ab2-4f9b-9ad6-e307ac7f9c4f",
   "metadata": {},
   "outputs": [],
   "source": []
  },
  {
   "cell_type": "code",
   "execution_count": null,
   "id": "d23576f9-4be3-42d1-8f6a-b97397a21855",
   "metadata": {},
   "outputs": [],
   "source": [
    "# Carrega o modelo\n",
    "model = YOLO(\"C:/Users/ranes/Documents/Resultados/yolov8s2/weights/best.pt\")  "
   ]
  },
  {
   "cell_type": "code",
   "execution_count": null,
   "id": "8e4a28ff-b330-49ce-89b4-6addc68f0459",
   "metadata": {},
   "outputs": [],
   "source": [
    "# # Exporta o modelo\n",
    "model.export(format='tflite')"
   ]
  },
  {
   "cell_type": "code",
   "execution_count": null,
   "id": "1b1ea912-080d-4445-92ba-2f4df7beb9f6",
   "metadata": {},
   "outputs": [],
   "source": []
  }
 ],
 "metadata": {
  "kernelspec": {
   "display_name": "Python 3 (ipykernel)",
   "language": "python",
   "name": "python3"
  },
  "language_info": {
   "codemirror_mode": {
    "name": "ipython",
    "version": 3
   },
   "file_extension": ".py",
   "mimetype": "text/x-python",
   "name": "python",
   "nbconvert_exporter": "python",
   "pygments_lexer": "ipython3",
   "version": "3.12.4"
  }
 },
 "nbformat": 4,
 "nbformat_minor": 5
}
